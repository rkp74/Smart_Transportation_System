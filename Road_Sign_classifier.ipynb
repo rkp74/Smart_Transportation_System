{
  "nbformat": 4,
  "nbformat_minor": 0,
  "metadata": {
    "colab": {
      "provenance": [],
      "authorship_tag": "ABX9TyNQEEvwAjjBTHhiqS1IEEhW",
      "include_colab_link": true
    },
    "kernelspec": {
      "name": "python3",
      "display_name": "Python 3"
    },
    "language_info": {
      "name": "python"
    }
  },
  "cells": [
    {
      "cell_type": "markdown",
      "metadata": {
        "id": "view-in-github",
        "colab_type": "text"
      },
      "source": [
        "<a href=\"https://colab.research.google.com/github/rkp74/Smart_Transportation_System/blob/main/Road_Sign_classifier.ipynb\" target=\"_parent\"><img src=\"https://colab.research.google.com/assets/colab-badge.svg\" alt=\"Open In Colab\"/></a>"
      ]
    },
    {
      "cell_type": "code",
      "execution_count": null,
      "metadata": {
        "id": "TyeVnaZzJsy9"
      },
      "outputs": [],
      "source": [
        "import numpy as np # linear algebra\n",
        "import pandas as pd # data processing, CSV file I/O (e.g. pd.read_csv)\n",
        "import keras \n",
        "from keras.models import Sequential, Model\n",
        "from keras.layers import Conv2D, Dense, MaxPooling2D, Dropout, Flatten, Dropout,BatchNormalization\n",
        "from keras.optimizers import Adam\n",
        "from keras.preprocessing.image import ImageDataGenerator\n",
        "from keras.callbacks import TensorBoard, ReduceLROnPlateau\n",
        "from keras.utils.np_utils import to_categorical\n",
        "from sklearn.model_selection import train_test_split\n",
        "import matplotlib.pyplot as plt\n",
        "import scipy.misc\n",
        "from matplotlib.pyplot import imshow\n",
        "import cv2\n",
        "import os"
      ]
    },
    {
      "cell_type": "code",
      "source": [
        "# Connecting Google Drive with Google Colab\n",
        "from google.colab import drive\n",
        "drive.mount('/content/drive/')"
      ],
      "metadata": {
        "colab": {
          "base_uri": "https://localhost:8080/"
        },
        "id": "qC52RyW3MNdJ",
        "outputId": "7e5e1efd-8809-4faf-83ee-3af38e717d12"
      },
      "execution_count": null,
      "outputs": [
        {
          "output_type": "stream",
          "name": "stdout",
          "text": [
            "Mounted at /content/drive/\n"
          ]
        }
      ]
    },
    {
      "cell_type": "code",
      "source": [
        "datapath =  \"/content/drive/My Drive/Smart_Transportation_System/Dataset/sign\""
      ],
      "metadata": {
        "id": "ftRrEH16MSlj"
      },
      "execution_count": null,
      "outputs": []
    },
    {
      "cell_type": "code",
      "source": [
        "#loads the data and performs preprocessing of image\n",
        "#Contrast adjustment and class imbalance is handled\n",
        "def load_data(path):\n",
        "    images = []\n",
        "    classes = []\n",
        "    data = pd.read_csv(path)\n",
        "    data = data.sample(frac=1).reset_index(drop=True)\n",
        "    for i,row in data.iterrows():\n",
        "        img_path = row['Path']\n",
        "        img_class = row['ClassId']\n",
        "        \n",
        "        img = os.path.join(datapath,img_path)\n",
        "        img = cv2.imread(img)\n",
        "        img_resize = cv2.resize(img,(32,32),3) #resizes each img to size 32*32*3\n",
        "        R,G,B = cv2.split(img_resize)          #splits R, G & B values of img\n",
        "        R = cv2.equalizeHist(R)                #Contrast adjustment of R channel \n",
        "        G = cv2.equalizeHist(G)                #Contrast adjustment of G channel\n",
        "        B = cv2.equalizeHist(B)                #Contrast adjustment of B channel\n",
        "        new_img = cv2.merge((R,G,B))\n",
        "        \n",
        "        if i>0 and i%1000 == 0: \n",
        "            print(\"loaded: \",i,\" images\")\n",
        "        images.append(new_img)\n",
        "        classes.append(img_class)\n",
        "        \n",
        "    imgs = np.array(images)\n",
        "    labels = np.array(classes)\n",
        "    \n",
        "    return imgs, labels"
      ],
      "metadata": {
        "id": "1HkVnkw1Lu-h"
      },
      "execution_count": null,
      "outputs": []
    },
    {
      "cell_type": "code",
      "source": [
        "train_X, train_Y = pd.read_csv('gtsrb_Train.csv')\n",
        "test_X, test_Y = pd.read_csv('gtsrb_Test.csv')"
      ],
      "metadata": {
        "colab": {
          "base_uri": "https://localhost:8080/",
          "height": 187
        },
        "id": "IrHVe3lBLAzo",
        "outputId": "b18e2c35-4db9-4a6b-c319-c6117afa8618"
      },
      "execution_count": null,
      "outputs": [
        {
          "output_type": "error",
          "ename": "ValueError",
          "evalue": "ignored",
          "traceback": [
            "\u001b[0;31m---------------------------------------------------------------------------\u001b[0m",
            "\u001b[0;31mValueError\u001b[0m                                Traceback (most recent call last)",
            "\u001b[0;32m<ipython-input-16-ea0b21038629>\u001b[0m in \u001b[0;36m<cell line: 1>\u001b[0;34m()\u001b[0m\n\u001b[0;32m----> 1\u001b[0;31m \u001b[0mtrain_X\u001b[0m\u001b[0;34m,\u001b[0m \u001b[0mtrain_Y\u001b[0m \u001b[0;34m=\u001b[0m \u001b[0mpd\u001b[0m\u001b[0;34m.\u001b[0m\u001b[0mread_csv\u001b[0m\u001b[0;34m(\u001b[0m\u001b[0;34m'gtsrb_Train.csv'\u001b[0m\u001b[0;34m)\u001b[0m\u001b[0;34m\u001b[0m\u001b[0;34m\u001b[0m\u001b[0m\n\u001b[0m\u001b[1;32m      2\u001b[0m \u001b[0mtest_X\u001b[0m\u001b[0;34m,\u001b[0m \u001b[0mtest_Y\u001b[0m \u001b[0;34m=\u001b[0m \u001b[0mpd\u001b[0m\u001b[0;34m.\u001b[0m\u001b[0mread_csv\u001b[0m\u001b[0;34m(\u001b[0m\u001b[0;34m'gtsrb_Test.csv'\u001b[0m\u001b[0;34m)\u001b[0m\u001b[0;34m\u001b[0m\u001b[0;34m\u001b[0m\u001b[0m\n",
            "\u001b[0;31mValueError\u001b[0m: too many values to unpack (expected 2)"
          ]
        }
      ]
    },
    {
      "cell_type": "code",
      "source": [
        "print(train_X.shape)\n",
        "print(train_Y.shape)\n",
        "print(test_X.shape)\n",
        "print(test_Y.shape)"
      ],
      "metadata": {
        "id": "PRxrmUfhLtVc"
      },
      "execution_count": null,
      "outputs": []
    },
    {
      "cell_type": "code",
      "source": [
        "def plot_signs(X, Y):\n",
        "    for i in range(20):\n",
        "        plt.subplot(5, 4, i+1)\n",
        "        plt.tight_layout()\n",
        "        plt.imshow(X[i], cmap='hsv')\n",
        "        plt.title('Class:{}'.format(Y[i]))\n",
        "        plt.xticks([])\n",
        "        plt.yticks([])\n",
        "    plt.show()"
      ],
      "metadata": {
        "id": "3t3fHGCjMhWQ"
      },
      "execution_count": null,
      "outputs": []
    },
    {
      "cell_type": "code",
      "source": [
        "plot_signs(train_X,train_Y)"
      ],
      "metadata": {
        "id": "g3I6xE_LMjyR"
      },
      "execution_count": null,
      "outputs": []
    },
    {
      "cell_type": "code",
      "source": [
        "#Normalizing the data\n",
        "train_X = train_X.astype('float32')/255.0\n",
        "test_X = test_X.astype('float32')/255.0\n",
        "\n",
        "train_Y = to_categorical(train_Y)\n",
        "test_Y = to_categorical(test_Y)\n",
        "\n",
        "class_totals = train_Y.sum(axis=0)\n",
        "class_weights = class_totals.max() / class_totals"
      ],
      "metadata": {
        "id": "9IVeM3zfMlnI"
      },
      "execution_count": null,
      "outputs": []
    },
    {
      "cell_type": "code",
      "source": [
        "import tensorflow\n",
        "def model(width,height,depth,classes):\n",
        "    model = Sequential()\n",
        "    \n",
        "    model.add(Conv2D(32,(5,5),activation='relu', input_shape=(width,height,depth)))              \n",
        "    model.add(BatchNormalization())         \n",
        "    model.add(MaxPooling2D((2,2), strides=(2,2)))\n",
        "              \n",
        "    model.add(Conv2D(48,(5,5),activation='relu'))\n",
        "    model.add(BatchNormalization())\n",
        "    model.add(MaxPooling2D((2,2), strides=(2,2)))\n",
        "              \n",
        "    model.add(Flatten())\n",
        "    model.add(Dense(120, activation='relu'))\n",
        "    model.add(Dropout(0.2))\n",
        "              \n",
        "    model.add(Dense(84, activation='relu'))\n",
        "    model.add(Dropout(0.1))\n",
        "    \n",
        "    model.add(Dense(classes, activation='softmax'))\n",
        "    return model"
      ],
      "metadata": {
        "id": "8qHIQQxBMoID"
      },
      "execution_count": null,
      "outputs": []
    },
    {
      "cell_type": "code",
      "source": [
        "model = model(32,32,3,43)"
      ],
      "metadata": {
        "id": "KcDUAa_dMqeQ"
      },
      "execution_count": null,
      "outputs": []
    },
    {
      "cell_type": "code",
      "source": [
        "model.build()\n",
        "model.summary()"
      ],
      "metadata": {
        "id": "AEsei43aMsOn"
      },
      "execution_count": null,
      "outputs": []
    },
    {
      "cell_type": "code",
      "source": [
        "model.compile(optimizer='adam', loss='categorical_crossentropy', metrics=['accuracy'])"
      ],
      "metadata": {
        "id": "-1lADwxlMuP1"
      },
      "execution_count": null,
      "outputs": []
    },
    {
      "cell_type": "code",
      "source": [
        "# Data Augmentation\n",
        "datagen = ImageDataGenerator(\n",
        "            rotation_range=10, \n",
        "            width_shift_range=0.1, \n",
        "            height_shift_range=0.1, \n",
        "            zoom_range=0.1)\n",
        "datagen.fit(train_X)"
      ],
      "metadata": {
        "id": "ij7l9F1qMxo0"
      },
      "execution_count": null,
      "outputs": []
    },
    {
      "cell_type": "code",
      "source": [
        "# Set a learning rate annealer\n",
        "reduce_lr = ReduceLROnPlateau(monitor='val_accuracy', \n",
        "                                patience=3, \n",
        "                                verbose=1, \n",
        "                                factor=0.2, \n",
        "                                min_lr=1e-6)"
      ],
      "metadata": {
        "id": "b_5qGvXCM0aW"
      },
      "execution_count": null,
      "outputs": []
    },
    {
      "cell_type": "code",
      "source": [
        "model.fit_generator(datagen.flow(train_X, train_Y, batch_size=128), steps_per_epoch=len(train_X)/128, epochs=20, validation_data=(test_X, test_Y), \n",
        "                    class_weight=class_weights,\n",
        "                    callbacks=[reduce_lr])"
      ],
      "metadata": {
        "id": "D5S6Pqa_NRbH"
      },
      "execution_count": null,
      "outputs": []
    },
    {
      "cell_type": "code",
      "source": [],
      "metadata": {
        "id": "_2kyilveNTql"
      },
      "execution_count": null,
      "outputs": []
    }
  ]
}