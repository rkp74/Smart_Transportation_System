{
  "nbformat": 4,
  "nbformat_minor": 0,
  "metadata": {
    "colab": {
      "provenance": [],
      "authorship_tag": "ABX9TyN2sTnAc0Sn2pV5cHFQkoDV",
      "include_colab_link": true
    },
    "kernelspec": {
      "name": "python3",
      "display_name": "Python 3"
    },
    "language_info": {
      "name": "python"
    }
  },
  "cells": [
    {
      "cell_type": "markdown",
      "metadata": {
        "id": "view-in-github",
        "colab_type": "text"
      },
      "source": [
        "<a href=\"https://colab.research.google.com/github/rkp74/Smart_Transportation_System/blob/main/Automated_traffic_signal.ipynb\" target=\"_parent\"><img src=\"https://colab.research.google.com/assets/colab-badge.svg\" alt=\"Open In Colab\"/></a>"
      ]
    },
    {
      "cell_type": "code",
      "source": [
        "!pip install -q cvlib"
      ],
      "metadata": {
        "colab": {
          "base_uri": "https://localhost:8080/"
        },
        "id": "EDfsY_2SP9J_",
        "outputId": "939575b9-51f1-4ff1-d8d5-0cf9b9acfd2f"
      },
      "execution_count": null,
      "outputs": [
        {
          "output_type": "stream",
          "name": "stdout",
          "text": [
            "\u001b[?25l     \u001b[90m━━━━━━━━━━━━━━━━━━━━━━━━━━━━━━━━━━━━━━━━\u001b[0m \u001b[32m0.0/13.1 MB\u001b[0m \u001b[31m?\u001b[0m eta \u001b[36m-:--:--\u001b[0m\r\u001b[2K     \u001b[91m━━━━━━━━\u001b[0m\u001b[91m╸\u001b[0m\u001b[90m━━━━━━━━━━━━━━━━━━━━━━━━━━━━━━━\u001b[0m \u001b[32m2.9/13.1 MB\u001b[0m \u001b[31m84.3 MB/s\u001b[0m eta \u001b[36m0:00:01\u001b[0m\r\u001b[2K     \u001b[91m━━━━━━━━━━━━━━━━━\u001b[0m\u001b[91m╸\u001b[0m\u001b[90m━━━━━━━━━━━━━━━━━━━━━━\u001b[0m \u001b[32m5.9/13.1 MB\u001b[0m \u001b[31m83.8 MB/s\u001b[0m eta \u001b[36m0:00:01\u001b[0m\r\u001b[2K     \u001b[91m━━━━━━━━━━━━━━━━━━━━━━━━━━━━━━\u001b[0m\u001b[90m╺\u001b[0m\u001b[90m━━━━━━━━━\u001b[0m \u001b[32m9.9/13.1 MB\u001b[0m \u001b[31m88.8 MB/s\u001b[0m eta \u001b[36m0:00:01\u001b[0m\r\u001b[2K     \u001b[91m━━━━━━━━━━━━━━━━━━━━━━━━━━━━━━━━━━━━━━━\u001b[0m\u001b[91m╸\u001b[0m \u001b[32m13.1/13.1 MB\u001b[0m \u001b[31m99.8 MB/s\u001b[0m eta \u001b[36m0:00:01\u001b[0m\r\u001b[2K     \u001b[91m━━━━━━━━━━━━━━━━━━━━━━━━━━━━━━━━━━━━━━━\u001b[0m\u001b[91m╸\u001b[0m \u001b[32m13.1/13.1 MB\u001b[0m \u001b[31m99.8 MB/s\u001b[0m eta \u001b[36m0:00:01\u001b[0m\r\u001b[2K     \u001b[90m━━━━━━━━━━━━━━━━━━━━━━━━━━━━━━━━━━━━━━━━\u001b[0m \u001b[32m13.1/13.1 MB\u001b[0m \u001b[31m55.4 MB/s\u001b[0m eta \u001b[36m0:00:00\u001b[0m\n",
            "\u001b[?25h  Preparing metadata (setup.py) ... \u001b[?25l\u001b[?25hdone\n",
            "  Preparing metadata (setup.py) ... \u001b[?25l\u001b[?25hdone\n",
            "  Building wheel for cvlib (setup.py) ... \u001b[?25l\u001b[?25hdone\n",
            "  Building wheel for progressbar (setup.py) ... \u001b[?25l\u001b[?25hdone\n"
          ]
        }
      ]
    },
    {
      "cell_type": "code",
      "execution_count": null,
      "metadata": {
        "id": "LwGx6U0KPr6L"
      },
      "outputs": [],
      "source": [
        "import cv2\n",
        "import numpy as np\n",
        "import os\n",
        "import cvlib as cv\n",
        "import random \n",
        "import math\n",
        "import requests\n",
        "import uuid\n",
        "import matplotlib.pyplot as plt\n",
        "from datetime import datetime\n",
        "from cvlib.object_detection import draw_bbox\n",
        "from skimage import img_as_ubyte as im2uint8\n",
        "from skimage import img_as_float64 as im2double\n",
        "from skimage.color import rgb2hsv,hsv2rgb\n",
        "import time"
      ]
    },
    {
      "cell_type": "code",
      "source": [
        "def rescale(img,min,max):\n",
        "    return np.interp(img, (img.min(), img.max()), (min, max))"
      ],
      "metadata": {
        "id": "T_lw4zAHP2ze"
      },
      "execution_count": null,
      "outputs": []
    },
    {
      "cell_type": "code",
      "source": [
        "#log transformation\n",
        "def logtransform(image,c):\n",
        "    image = c * np.log (1 + image)\n",
        "    return image"
      ],
      "metadata": {
        "id": "1hzNJmbjP5H-"
      },
      "execution_count": null,
      "outputs": []
    },
    {
      "cell_type": "code",
      "source": [
        "#unsharp_masking\n",
        "def unsharpmasking(image,size):\n",
        "    #declaring 7*7 averaging filter\n",
        "    filter = np.ones((size,size)) / (size**2) \n",
        "    #apply filter on image to blur \n",
        "    blurred = cv2.filter2D(image,-1,filter)\n",
        "    blurred = im2double(blurred)\n",
        "    #extract edges by subtracting blurred image from original \n",
        "    edges = image - blurred\n",
        "    edges = im2uint8(edges)\n",
        "    #converting original image to uint8\n",
        "    image = im2uint8(image)\n",
        "    #adding edges to original image to sharpen (image + edges)\n",
        "    \n",
        "    temp = 255 - edges\n",
        "    np.putmask(image ,temp < image , temp)\n",
        "    image += edges\n",
        "    \n",
        "    #returning sharpened image \n",
        "    return image"
      ],
      "metadata": {
        "id": "6EhZzdcqQDKO"
      },
      "execution_count": null,
      "outputs": []
    },
    {
      "cell_type": "code",
      "source": [
        "def enhance_image(img):\n",
        "    [r,c,p] = img.shape\n",
        "    # RGB -> HSV \n",
        "    hsv_img = rgb2hsv(img)\n",
        "    # Extracting Intensity Plane\n",
        "    intensity_plane  = hsv_img[:,:,2]\n",
        "    # Rescale Intensity plane to overcome brighter pixels\n",
        "    intensity_plane = rescale(intensity_plane,0,0.8)\n",
        "    # Apply log transformation to expand dark regions for c = 1.5\n",
        "    intensity_plane = logtransform(intensity_plane,1.5)\n",
        "    #Apply unsharpmasking to sharpen image using filter 7*7\n",
        "    intensity_plane = unsharpmasking(intensity_plane,7)\n",
        "    \n",
        "    #creating new hsv image and appending enhanced intencity plane to it \n",
        "    new_hsv_img = np.ones((r,c,p) )\n",
        "    intensity_plane = im2double(intensity_plane)\n",
        "    new_hsv_img[:,:,0] = hsv_img[:,:,0]\n",
        "    new_hsv_img[:,:,1] = hsv_img[:,:,1]\n",
        "    new_hsv_img[:,:,2] = intensity_plane\n",
        "    \n",
        "    #converting enhanced HSV to RGB  \n",
        "    new_rgb = hsv2rgb(new_hsv_img)\n",
        "    R = new_rgb[:,:,0]\n",
        "    G = new_rgb[:,:,1]\n",
        "    B = new_rgb[:,:,2]\n",
        "    \n",
        "    #Taking negative of RGB image \n",
        "    R = 255 - R\n",
        "    G = 255 - G\n",
        "    B = 255 - B\n",
        "\n",
        "    #Creating new RGB image with negative values  \n",
        "    new_img = np.zeros((r,c,3))\n",
        "    new_img[:,:,0] = R\n",
        "    new_img[:,:,1] = G\n",
        "    new_img[:,:,2] = B\n",
        "    \n",
        "    #rescaling new RGB to range 0-1 for conversion purpose \n",
        "    new_img = rescale(new_img,0,1)\n",
        "    \n",
        "    #converting image to uint8\n",
        "    new_img = im2uint8(new_img)\n",
        "    \n",
        "    return new_img"
      ],
      "metadata": {
        "id": "pqzwFwohQKZ9"
      },
      "execution_count": null,
      "outputs": []
    },
    {
      "cell_type": "code",
      "source": [
        "#applies image enhancement on arary of images and return enhanced images\n",
        "def apply_enhancement(data):\n",
        "    enhanced_data = []\n",
        "    for img in data:\n",
        "        enhanced_data.append(enhance_image(img))\n",
        "    return enhanced_data "
      ],
      "metadata": {
        "id": "iTHKA2B9QN03"
      },
      "execution_count": null,
      "outputs": []
    },
    {
      "cell_type": "code",
      "source": [
        "def get_images(path):            #takes random images from specified directory\n",
        "    data = []\n",
        "    img_paths =[] \n",
        "    dirs  = os.listdir(path)\n",
        "    random.shuffle(dirs)\n",
        "    for k, v in enumerate(dirs[:4]):\n",
        "            img_paths.append(path+'/'+v)\n",
        "            img = plt.imread(path+'/'+v)\n",
        "            data.append(img)  \n",
        "     #returning image paths and data array.       \n",
        "    return data,img_paths"
      ],
      "metadata": {
        "id": "2ECTHVU7QQrU"
      },
      "execution_count": null,
      "outputs": []
    },
    {
      "cell_type": "code",
      "source": [
        "def printimages(data,title='images',vehicles=None):     #print images set in a subplot\n",
        "    x = len(data);\n",
        "    fig, _ = plt.subplots(math.ceil(x/2),2)  #specifies 2 images per row\n",
        "    fig.suptitle(title)\n",
        "    fig.set_size_inches(18, 18)\n",
        "\n",
        "    dirs  = os.listdir(path)\n",
        "    random.shuffle(dirs)\n",
        "    for k, v in enumerate(data):\n",
        "            plt.subplot(math.ceil(x/2),2, k+1)\n",
        "            plt.axis('off')\n",
        "            plt.imshow(v)\n",
        "            if vehicles:               #if no. of vehicles is passed display them on images \n",
        "                plt.text(8, 8, \"no of vehicles: \"+ str(vehicles[k]), bbox=dict( edgecolor='black', linewidth=3),fontsize='x-large')\n",
        "    plt.show()"
      ],
      "metadata": {
        "id": "qTrvI3hfQSof"
      },
      "execution_count": null,
      "outputs": []
    },
    {
      "cell_type": "code",
      "source": [
        "def detect_vehicles(data):                                                            #detect  vehicles in provided images\n",
        "    detected_imgs = []\n",
        "    densities = []\n",
        "    for img in data:\n",
        "        new_img = enhance_image(img)\n",
        "        \n",
        "        # applying detection on both enhanced and unenhanced images to get best results \n",
        "        \n",
        "        bbox, label, conf = cv.detect_common_objects(img)\n",
        "        bbox2, label2, conf2 = cv.detect_common_objects(new_img)\n",
        "        vehicles = label.count('car')+label.count('truck')+label.count('motorcycle')+label.count('bus')\n",
        "        vehicles2 = label2.count('car')+label2.count('truck')+label2.count('motorcycle')+label2.count('bus')\n",
        "        \n",
        "        #if enhanced image has more no. of detected images.\n",
        "        if vehicles > vehicles2:\n",
        "            output_image = draw_bbox(img, bbox, label, conf)\n",
        "            densities.append(vehicles)\n",
        "        else:\n",
        "            output_image = draw_bbox(img, bbox2, label2, conf2)\n",
        "            densities.append(vehicles2)  \n",
        "            \n",
        "        detected_imgs.append(output_image)\n",
        "        \n",
        "    return detected_imgs,densities"
      ],
      "metadata": {
        "id": "-TKuoUQPQU34"
      },
      "execution_count": null,
      "outputs": []
    },
    {
      "cell_type": "code",
      "source": [
        "def get_priority_queue(densities):\n",
        "    density_queue = densities[:]\n",
        "    queue = []\n",
        "    for x in density_queue:\n",
        "            max_val = max(density_queue)\n",
        "            max_index = density_queue.index(max_val)\n",
        "            queue.append(max_index)\n",
        "            density_queue[max_index] = -1;\n",
        "    return queue"
      ],
      "metadata": {
        "id": "2j226cClQXtg"
      },
      "execution_count": null,
      "outputs": []
    },
    {
      "cell_type": "code",
      "source": [
        "def signal_controller():\n",
        "    data = get_images(os.getcwd() +'/traffic-data/')\n",
        "    img_paths = data[1]\n",
        "    data = data[0]\n",
        "#     data  = apply_enhancement(data)\n",
        "    detected_data = data[:]\n",
        "    detection = detect_vehicles(detected_data);                  #Object Detection\n",
        "    detected_data = detection[0]                  #Object Detection\n",
        "    img_densities = detection[1]          #Vehicle Counting\n",
        "    priority_queue = get_priority_queue(img_densities)  #priority queue based on densities of images\n",
        "    return priority_queue,img_paths,detected_data,img_densities"
      ],
      "metadata": {
        "id": "kp26yCV0QbOX"
      },
      "execution_count": null,
      "outputs": []
    },
    {
      "cell_type": "code",
      "source": [
        "def signal_shifter():\n",
        "    while 1 :\n",
        "        id = str(uuid.uuid4())\n",
        "        global streak,control\n",
        "        controller = signal_controller()\n",
        "        img_paths  = controller[1]\n",
        "        priority_index = controller[0][0]\n",
        "        if streak < 3  and control == priority_index:\n",
        "            streak += 1\n",
        "#             print(\"streak for light:\"+str(control)+\" is \"+str(streak))\n",
        "        elif(streak==3):\n",
        "            control = controller[0][1]\n",
        "            streak = 0\n",
        "#             print(\"traffic_light :\"+str(control))\n",
        "        else:\n",
        "             control = priority_index\n",
        "#              print(\"traffic_light :\"+str(control))\n",
        "             streak = 0   \n",
        "        obj = {\"id\":id,\"time_stamp\":str(datetime.now()),\"images\":img_paths,\"control\":control,\"streak\":streak}\n",
        "        url = \"http://localhost:8000/signals\"\n",
        "        x = requests.post(url,data = obj)\n",
        "        print(x.text)"
      ],
      "metadata": {
        "id": "r6ZxShKmQdzy"
      },
      "execution_count": null,
      "outputs": []
    },
    {
      "cell_type": "code",
      "source": [
        "controller = signal_controller()\n",
        "paths = controller[1]\n",
        "detected_images = controller[2]\n",
        "intensities = controller[3]\n",
        "print(paths)\n",
        "printimages(detected_images,'detected data',intensities);"
      ],
      "metadata": {
        "colab": {
          "base_uri": "https://localhost:8080/",
          "height": 389
        },
        "id": "tOQzD3ipQgJv",
        "outputId": "922f8f8e-32c9-49e8-da07-fffd82b59c69"
      },
      "execution_count": null,
      "outputs": [
        {
          "output_type": "error",
          "ename": "FileNotFoundError",
          "evalue": "ignored",
          "traceback": [
            "\u001b[0;31m---------------------------------------------------------------------------\u001b[0m",
            "\u001b[0;31mFileNotFoundError\u001b[0m                         Traceback (most recent call last)",
            "\u001b[0;32m<ipython-input-15-cc52deb6ae6f>\u001b[0m in \u001b[0;36m<cell line: 1>\u001b[0;34m()\u001b[0m\n\u001b[0;32m----> 1\u001b[0;31m \u001b[0mcontroller\u001b[0m \u001b[0;34m=\u001b[0m \u001b[0msignal_controller\u001b[0m\u001b[0;34m(\u001b[0m\u001b[0;34m)\u001b[0m\u001b[0;34m\u001b[0m\u001b[0;34m\u001b[0m\u001b[0m\n\u001b[0m\u001b[1;32m      2\u001b[0m \u001b[0mpaths\u001b[0m \u001b[0;34m=\u001b[0m \u001b[0mcontroller\u001b[0m\u001b[0;34m[\u001b[0m\u001b[0;36m1\u001b[0m\u001b[0;34m]\u001b[0m\u001b[0;34m\u001b[0m\u001b[0;34m\u001b[0m\u001b[0m\n\u001b[1;32m      3\u001b[0m \u001b[0mdetected_images\u001b[0m \u001b[0;34m=\u001b[0m \u001b[0mcontroller\u001b[0m\u001b[0;34m[\u001b[0m\u001b[0;36m2\u001b[0m\u001b[0;34m]\u001b[0m\u001b[0;34m\u001b[0m\u001b[0;34m\u001b[0m\u001b[0m\n\u001b[1;32m      4\u001b[0m \u001b[0mintensities\u001b[0m \u001b[0;34m=\u001b[0m \u001b[0mcontroller\u001b[0m\u001b[0;34m[\u001b[0m\u001b[0;36m3\u001b[0m\u001b[0;34m]\u001b[0m\u001b[0;34m\u001b[0m\u001b[0;34m\u001b[0m\u001b[0m\n\u001b[1;32m      5\u001b[0m \u001b[0mprint\u001b[0m\u001b[0;34m(\u001b[0m\u001b[0mpaths\u001b[0m\u001b[0;34m)\u001b[0m\u001b[0;34m\u001b[0m\u001b[0;34m\u001b[0m\u001b[0m\n",
            "\u001b[0;32m<ipython-input-13-468f9bffd7aa>\u001b[0m in \u001b[0;36msignal_controller\u001b[0;34m()\u001b[0m\n\u001b[1;32m      1\u001b[0m \u001b[0;32mdef\u001b[0m \u001b[0msignal_controller\u001b[0m\u001b[0;34m(\u001b[0m\u001b[0;34m)\u001b[0m\u001b[0;34m:\u001b[0m\u001b[0;34m\u001b[0m\u001b[0;34m\u001b[0m\u001b[0m\n\u001b[0;32m----> 2\u001b[0;31m     \u001b[0mdata\u001b[0m \u001b[0;34m=\u001b[0m \u001b[0mget_images\u001b[0m\u001b[0;34m(\u001b[0m\u001b[0mos\u001b[0m\u001b[0;34m.\u001b[0m\u001b[0mgetcwd\u001b[0m\u001b[0;34m(\u001b[0m\u001b[0;34m)\u001b[0m \u001b[0;34m+\u001b[0m\u001b[0;34m'/traffic-data/'\u001b[0m\u001b[0;34m)\u001b[0m\u001b[0;34m\u001b[0m\u001b[0;34m\u001b[0m\u001b[0m\n\u001b[0m\u001b[1;32m      3\u001b[0m     \u001b[0mimg_paths\u001b[0m \u001b[0;34m=\u001b[0m \u001b[0mdata\u001b[0m\u001b[0;34m[\u001b[0m\u001b[0;36m1\u001b[0m\u001b[0;34m]\u001b[0m\u001b[0;34m\u001b[0m\u001b[0;34m\u001b[0m\u001b[0m\n\u001b[1;32m      4\u001b[0m     \u001b[0mdata\u001b[0m \u001b[0;34m=\u001b[0m \u001b[0mdata\u001b[0m\u001b[0;34m[\u001b[0m\u001b[0;36m0\u001b[0m\u001b[0;34m]\u001b[0m\u001b[0;34m\u001b[0m\u001b[0;34m\u001b[0m\u001b[0m\n\u001b[1;32m      5\u001b[0m \u001b[0;31m#     data  = apply_enhancement(data)\u001b[0m\u001b[0;34m\u001b[0m\u001b[0;34m\u001b[0m\u001b[0m\n",
            "\u001b[0;32m<ipython-input-9-5e0129aa4e74>\u001b[0m in \u001b[0;36mget_images\u001b[0;34m(path)\u001b[0m\n\u001b[1;32m      2\u001b[0m     \u001b[0mdata\u001b[0m \u001b[0;34m=\u001b[0m \u001b[0;34m[\u001b[0m\u001b[0;34m]\u001b[0m\u001b[0;34m\u001b[0m\u001b[0;34m\u001b[0m\u001b[0m\n\u001b[1;32m      3\u001b[0m     \u001b[0mimg_paths\u001b[0m \u001b[0;34m=\u001b[0m\u001b[0;34m[\u001b[0m\u001b[0;34m]\u001b[0m\u001b[0;34m\u001b[0m\u001b[0;34m\u001b[0m\u001b[0m\n\u001b[0;32m----> 4\u001b[0;31m     \u001b[0mdirs\u001b[0m  \u001b[0;34m=\u001b[0m \u001b[0mos\u001b[0m\u001b[0;34m.\u001b[0m\u001b[0mlistdir\u001b[0m\u001b[0;34m(\u001b[0m\u001b[0mpath\u001b[0m\u001b[0;34m)\u001b[0m\u001b[0;34m\u001b[0m\u001b[0;34m\u001b[0m\u001b[0m\n\u001b[0m\u001b[1;32m      5\u001b[0m     \u001b[0mrandom\u001b[0m\u001b[0;34m.\u001b[0m\u001b[0mshuffle\u001b[0m\u001b[0;34m(\u001b[0m\u001b[0mdirs\u001b[0m\u001b[0;34m)\u001b[0m\u001b[0;34m\u001b[0m\u001b[0;34m\u001b[0m\u001b[0m\n\u001b[1;32m      6\u001b[0m     \u001b[0;32mfor\u001b[0m \u001b[0mk\u001b[0m\u001b[0;34m,\u001b[0m \u001b[0mv\u001b[0m \u001b[0;32min\u001b[0m \u001b[0menumerate\u001b[0m\u001b[0;34m(\u001b[0m\u001b[0mdirs\u001b[0m\u001b[0;34m[\u001b[0m\u001b[0;34m:\u001b[0m\u001b[0;36m4\u001b[0m\u001b[0;34m]\u001b[0m\u001b[0;34m)\u001b[0m\u001b[0;34m:\u001b[0m\u001b[0;34m\u001b[0m\u001b[0;34m\u001b[0m\u001b[0m\n",
            "\u001b[0;31mFileNotFoundError\u001b[0m: [Errno 2] No such file or directory: '/content/traffic-data/'"
          ]
        }
      ]
    },
    {
      "cell_type": "code",
      "source": [
        "# setting globals \n",
        "control = -1\n",
        "streak = 0\n",
        "\n",
        "signal_shifter()"
      ],
      "metadata": {
        "colab": {
          "base_uri": "https://localhost:8080/",
          "height": 353
        },
        "id": "3mPLpjTaQjK2",
        "outputId": "ec9b9421-634e-47ae-e48e-8b9f651d1d27"
      },
      "execution_count": null,
      "outputs": [
        {
          "output_type": "error",
          "ename": "FileNotFoundError",
          "evalue": "ignored",
          "traceback": [
            "\u001b[0;31m---------------------------------------------------------------------------\u001b[0m",
            "\u001b[0;31mFileNotFoundError\u001b[0m                         Traceback (most recent call last)",
            "\u001b[0;32m<ipython-input-16-d72454b865d5>\u001b[0m in \u001b[0;36m<cell line: 5>\u001b[0;34m()\u001b[0m\n\u001b[1;32m      3\u001b[0m \u001b[0mstreak\u001b[0m \u001b[0;34m=\u001b[0m \u001b[0;36m0\u001b[0m\u001b[0;34m\u001b[0m\u001b[0;34m\u001b[0m\u001b[0m\n\u001b[1;32m      4\u001b[0m \u001b[0;34m\u001b[0m\u001b[0m\n\u001b[0;32m----> 5\u001b[0;31m \u001b[0msignal_shifter\u001b[0m\u001b[0;34m(\u001b[0m\u001b[0;34m)\u001b[0m\u001b[0;34m\u001b[0m\u001b[0;34m\u001b[0m\u001b[0m\n\u001b[0m",
            "\u001b[0;32m<ipython-input-14-53e6cf3c6056>\u001b[0m in \u001b[0;36msignal_shifter\u001b[0;34m()\u001b[0m\n\u001b[1;32m      3\u001b[0m         \u001b[0mid\u001b[0m \u001b[0;34m=\u001b[0m \u001b[0mstr\u001b[0m\u001b[0;34m(\u001b[0m\u001b[0muuid\u001b[0m\u001b[0;34m.\u001b[0m\u001b[0muuid4\u001b[0m\u001b[0;34m(\u001b[0m\u001b[0;34m)\u001b[0m\u001b[0;34m)\u001b[0m\u001b[0;34m\u001b[0m\u001b[0;34m\u001b[0m\u001b[0m\n\u001b[1;32m      4\u001b[0m         \u001b[0;32mglobal\u001b[0m \u001b[0mstreak\u001b[0m\u001b[0;34m,\u001b[0m\u001b[0mcontrol\u001b[0m\u001b[0;34m\u001b[0m\u001b[0;34m\u001b[0m\u001b[0m\n\u001b[0;32m----> 5\u001b[0;31m         \u001b[0mcontroller\u001b[0m \u001b[0;34m=\u001b[0m \u001b[0msignal_controller\u001b[0m\u001b[0;34m(\u001b[0m\u001b[0;34m)\u001b[0m\u001b[0;34m\u001b[0m\u001b[0;34m\u001b[0m\u001b[0m\n\u001b[0m\u001b[1;32m      6\u001b[0m         \u001b[0mimg_paths\u001b[0m  \u001b[0;34m=\u001b[0m \u001b[0mcontroller\u001b[0m\u001b[0;34m[\u001b[0m\u001b[0;36m1\u001b[0m\u001b[0;34m]\u001b[0m\u001b[0;34m\u001b[0m\u001b[0;34m\u001b[0m\u001b[0m\n\u001b[1;32m      7\u001b[0m         \u001b[0mpriority_index\u001b[0m \u001b[0;34m=\u001b[0m \u001b[0mcontroller\u001b[0m\u001b[0;34m[\u001b[0m\u001b[0;36m0\u001b[0m\u001b[0;34m]\u001b[0m\u001b[0;34m[\u001b[0m\u001b[0;36m0\u001b[0m\u001b[0;34m]\u001b[0m\u001b[0;34m\u001b[0m\u001b[0;34m\u001b[0m\u001b[0m\n",
            "\u001b[0;32m<ipython-input-13-468f9bffd7aa>\u001b[0m in \u001b[0;36msignal_controller\u001b[0;34m()\u001b[0m\n\u001b[1;32m      1\u001b[0m \u001b[0;32mdef\u001b[0m \u001b[0msignal_controller\u001b[0m\u001b[0;34m(\u001b[0m\u001b[0;34m)\u001b[0m\u001b[0;34m:\u001b[0m\u001b[0;34m\u001b[0m\u001b[0;34m\u001b[0m\u001b[0m\n\u001b[0;32m----> 2\u001b[0;31m     \u001b[0mdata\u001b[0m \u001b[0;34m=\u001b[0m \u001b[0mget_images\u001b[0m\u001b[0;34m(\u001b[0m\u001b[0mos\u001b[0m\u001b[0;34m.\u001b[0m\u001b[0mgetcwd\u001b[0m\u001b[0;34m(\u001b[0m\u001b[0;34m)\u001b[0m \u001b[0;34m+\u001b[0m\u001b[0;34m'/traffic-data/'\u001b[0m\u001b[0;34m)\u001b[0m\u001b[0;34m\u001b[0m\u001b[0;34m\u001b[0m\u001b[0m\n\u001b[0m\u001b[1;32m      3\u001b[0m     \u001b[0mimg_paths\u001b[0m \u001b[0;34m=\u001b[0m \u001b[0mdata\u001b[0m\u001b[0;34m[\u001b[0m\u001b[0;36m1\u001b[0m\u001b[0;34m]\u001b[0m\u001b[0;34m\u001b[0m\u001b[0;34m\u001b[0m\u001b[0m\n\u001b[1;32m      4\u001b[0m     \u001b[0mdata\u001b[0m \u001b[0;34m=\u001b[0m \u001b[0mdata\u001b[0m\u001b[0;34m[\u001b[0m\u001b[0;36m0\u001b[0m\u001b[0;34m]\u001b[0m\u001b[0;34m\u001b[0m\u001b[0;34m\u001b[0m\u001b[0m\n\u001b[1;32m      5\u001b[0m \u001b[0;31m#     data  = apply_enhancement(data)\u001b[0m\u001b[0;34m\u001b[0m\u001b[0;34m\u001b[0m\u001b[0m\n",
            "\u001b[0;32m<ipython-input-9-5e0129aa4e74>\u001b[0m in \u001b[0;36mget_images\u001b[0;34m(path)\u001b[0m\n\u001b[1;32m      2\u001b[0m     \u001b[0mdata\u001b[0m \u001b[0;34m=\u001b[0m \u001b[0;34m[\u001b[0m\u001b[0;34m]\u001b[0m\u001b[0;34m\u001b[0m\u001b[0;34m\u001b[0m\u001b[0m\n\u001b[1;32m      3\u001b[0m     \u001b[0mimg_paths\u001b[0m \u001b[0;34m=\u001b[0m\u001b[0;34m[\u001b[0m\u001b[0;34m]\u001b[0m\u001b[0;34m\u001b[0m\u001b[0;34m\u001b[0m\u001b[0m\n\u001b[0;32m----> 4\u001b[0;31m     \u001b[0mdirs\u001b[0m  \u001b[0;34m=\u001b[0m \u001b[0mos\u001b[0m\u001b[0;34m.\u001b[0m\u001b[0mlistdir\u001b[0m\u001b[0;34m(\u001b[0m\u001b[0mpath\u001b[0m\u001b[0;34m)\u001b[0m\u001b[0;34m\u001b[0m\u001b[0;34m\u001b[0m\u001b[0m\n\u001b[0m\u001b[1;32m      5\u001b[0m     \u001b[0mrandom\u001b[0m\u001b[0;34m.\u001b[0m\u001b[0mshuffle\u001b[0m\u001b[0;34m(\u001b[0m\u001b[0mdirs\u001b[0m\u001b[0;34m)\u001b[0m\u001b[0;34m\u001b[0m\u001b[0;34m\u001b[0m\u001b[0m\n\u001b[1;32m      6\u001b[0m     \u001b[0;32mfor\u001b[0m \u001b[0mk\u001b[0m\u001b[0;34m,\u001b[0m \u001b[0mv\u001b[0m \u001b[0;32min\u001b[0m \u001b[0menumerate\u001b[0m\u001b[0;34m(\u001b[0m\u001b[0mdirs\u001b[0m\u001b[0;34m[\u001b[0m\u001b[0;34m:\u001b[0m\u001b[0;36m4\u001b[0m\u001b[0;34m]\u001b[0m\u001b[0;34m)\u001b[0m\u001b[0;34m:\u001b[0m\u001b[0;34m\u001b[0m\u001b[0;34m\u001b[0m\u001b[0m\n",
            "\u001b[0;31mFileNotFoundError\u001b[0m: [Errno 2] No such file or directory: '/content/traffic-data/'"
          ]
        }
      ]
    }
  ]
}